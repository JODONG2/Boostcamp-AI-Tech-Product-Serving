{
 "cells": [
  {
   "cell_type": "code",
   "execution_count": 1,
   "id": "7a6c79d5-472e-4269-b71a-be09bd8bc27f",
   "metadata": {},
   "outputs": [],
   "source": [
    "import ipywidgets as widgets\n",
    "from IPython.display import display"
   ]
  },
  {
   "cell_type": "code",
   "execution_count": 2,
   "id": "b4b3a93e-2019-4ba6-bbac-99face2041cb",
   "metadata": {},
   "outputs": [
    {
     "data": {
      "application/vnd.jupyter.widget-view+json": {
       "model_id": "106b297214734614a74994406db21b50",
       "version_major": 2,
       "version_minor": 0
      },
      "text/plain": [
       "IntSlider(value=0)"
      ]
     },
     "metadata": {},
     "output_type": "display_data"
    }
   ],
   "source": [
    "widgets.IntSlider()"
   ]
  },
  {
   "cell_type": "code",
   "execution_count": 4,
   "id": "b901b1fd-b019-46fd-8c08-306c9368b1f3",
   "metadata": {},
   "outputs": [
    {
     "data": {
      "application/vnd.jupyter.widget-view+json": {
       "model_id": "da8d32a375474c1385c2fd33134433ae",
       "version_major": 2,
       "version_minor": 0
      },
      "text/plain": [
       "IntSlider(value=0)"
      ]
     },
     "metadata": {},
     "output_type": "display_data"
    }
   ],
   "source": [
    "int_slider = widgets.IntSlider()\n",
    "display(int_slider)"
   ]
  },
  {
   "cell_type": "code",
   "execution_count": 8,
   "id": "667cf1dd-abdb-440f-be3f-633452abfa0d",
   "metadata": {},
   "outputs": [
    {
     "data": {
      "application/vnd.jupyter.widget-view+json": {
       "model_id": "cd3fd60136a0466cad2e16788fe5b421",
       "version_major": 2,
       "version_minor": 0
      },
      "text/plain": [
       "FloatSlider(value=0.0)"
      ]
     },
     "metadata": {},
     "output_type": "display_data"
    },
    {
     "data": {
      "application/vnd.jupyter.widget-view+json": {
       "model_id": "da8d32a375474c1385c2fd33134433ae",
       "version_major": 2,
       "version_minor": 0
      },
      "text/plain": [
       "IntSlider(value=100)"
      ]
     },
     "metadata": {},
     "output_type": "display_data"
    },
    {
     "data": {
      "application/vnd.jupyter.widget-view+json": {
       "model_id": "cd3fd60136a0466cad2e16788fe5b421",
       "version_major": 2,
       "version_minor": 0
      },
      "text/plain": [
       "FloatSlider(value=0.0)"
      ]
     },
     "metadata": {},
     "output_type": "display_data"
    }
   ],
   "source": [
    "float_slider = widgets.FloatSlider()\n",
    "display(float_slider)\n",
    "display(int_slider,float_slider)\n"
   ]
  },
  {
   "cell_type": "code",
   "execution_count": 9,
   "id": "e4ba1fa3-afea-47e8-b318-e9de4561251f",
   "metadata": {},
   "outputs": [
    {
     "data": {
      "application/vnd.jupyter.widget-view+json": {
       "model_id": "e7b632689b9243d6b73b4a76ff0293fe",
       "version_major": 2,
       "version_minor": 0
      },
      "text/plain": [
       "IntRangeSlider(value=(1990, 2003), description='Year: ', max=2022, min=1900)"
      ]
     },
     "metadata": {},
     "output_type": "display_data"
    }
   ],
   "source": [
    "int_range_slider = widgets.IntRangeSlider(value=[1990,2003],\n",
    "                                          min = 1900,\n",
    "                                          max = 2022,\n",
    "                                          step = 1,\n",
    "                                          description =\"Year: \")\n",
    "display(int_range_slider)"
   ]
  },
  {
   "cell_type": "code",
   "execution_count": 12,
   "id": "fa170e0d-cb42-44e0-aee1-fa8b667bf011",
   "metadata": {},
   "outputs": [
    {
     "data": {
      "text/plain": [
       "(1961, 2003)"
      ]
     },
     "execution_count": 12,
     "metadata": {},
     "output_type": "execute_result"
    }
   ],
   "source": [
    "int_range_slider.value"
   ]
  },
  {
   "cell_type": "code",
   "execution_count": 16,
   "id": "0e631c9b-0684-4b99-91e5-0970c85fb996",
   "metadata": {},
   "outputs": [],
   "source": [
    "int_range_slider.value = [1000,2000] # min 1900으로 출력됨. "
   ]
  },
  {
   "cell_type": "code",
   "execution_count": 17,
   "id": "026046c1-6038-4a4a-a626-01c6a8ac54dd",
   "metadata": {},
   "outputs": [
    {
     "data": {
      "text/plain": [
       "(1900, 2000)"
      ]
     },
     "execution_count": 17,
     "metadata": {},
     "output_type": "execute_result"
    }
   ],
   "source": [
    "int_range_slider.value"
   ]
  },
  {
   "cell_type": "code",
   "execution_count": 19,
   "id": "9b0813f2-d6a2-4125-9777-d79196435a56",
   "metadata": {},
   "outputs": [],
   "source": [
    "string_input = widgets.Text(\n",
    "    value=\"hello world\",\n",
    "    placeholder=\"Type something\",\n",
    "    description = \"String\")\n"
   ]
  },
  {
   "cell_type": "code",
   "execution_count": 20,
   "id": "15ae9922-e953-4f3a-8d05-40fd89adbd58",
   "metadata": {},
   "outputs": [
    {
     "data": {
      "application/vnd.jupyter.widget-view+json": {
       "model_id": "1ad7cb44885b4a84bd847e966037ba83",
       "version_major": 2,
       "version_minor": 0
      },
      "text/plain": [
       "Text(value='hello world', description='String', placeholder='Type something')"
      ]
     },
     "metadata": {},
     "output_type": "display_data"
    }
   ],
   "source": [
    "display(string_input)"
   ]
  },
  {
   "cell_type": "code",
   "execution_count": 23,
   "id": "9f90df61-39a4-4997-83e6-3490959286e0",
   "metadata": {},
   "outputs": [],
   "source": [
    "string_input.value = \"hello widgets!\"\n"
   ]
  },
  {
   "cell_type": "code",
   "execution_count": 26,
   "id": "be980d9d-d369-44b4-ba59-c35168916264",
   "metadata": {},
   "outputs": [],
   "source": [
    "string_Textarea = widgets.Textarea(\n",
    "    value = 'Hellow Textarea!',\n",
    "    placeholder=\"what's this\",\n",
    "    description=\"Textarea\")"
   ]
  },
  {
   "cell_type": "code",
   "execution_count": 27,
   "id": "0af710fd-1ddc-4ef6-9e4c-1e12f758b9dd",
   "metadata": {},
   "outputs": [
    {
     "data": {
      "application/vnd.jupyter.widget-view+json": {
       "model_id": "df8f857bd0214adf985140e8d34f0f47",
       "version_major": 2,
       "version_minor": 0
      },
      "text/plain": [
       "Textarea(value='Hellow Textarea!', description='Textarea', placeholder=\"what's this\")"
      ]
     },
     "metadata": {},
     "output_type": "display_data"
    }
   ],
   "source": [
    "display(string_Textarea)"
   ]
  },
  {
   "cell_type": "code",
   "execution_count": 31,
   "id": "21415243-6745-4323-bc1f-af60c36d664a",
   "metadata": {},
   "outputs": [
    {
     "data": {
      "text/plain": [
       "'Hello Text area!'"
      ]
     },
     "execution_count": 31,
     "metadata": {},
     "output_type": "execute_result"
    }
   ],
   "source": [
    "string_Textarea.value"
   ]
  },
  {
   "cell_type": "code",
   "execution_count": 32,
   "id": "35eb3196-3e01-4257-9df3-fe5a349a6c93",
   "metadata": {},
   "outputs": [],
   "source": [
    "string_Textarea.value = 'Hello Text area!!!!'"
   ]
  },
  {
   "cell_type": "code",
   "execution_count": 34,
   "id": "7f480808-ab57-4136-a300-043d7f082d48",
   "metadata": {},
   "outputs": [],
   "source": [
    "string_pw = widgets.Password(value='password',\n",
    "                           placeholder='Enter password',\n",
    "                           description = 'Password')\n"
   ]
  },
  {
   "cell_type": "code",
   "execution_count": 35,
   "id": "a4068682-fc36-4db6-9860-2302ae6ebf35",
   "metadata": {},
   "outputs": [
    {
     "data": {
      "application/vnd.jupyter.widget-view+json": {
       "model_id": "f3178615d2754c06a939953d2aea5ec6",
       "version_major": 2,
       "version_minor": 0
      },
      "text/plain": [
       "Password(description='Password', placeholder='Enter password')"
      ]
     },
     "metadata": {},
     "output_type": "display_data"
    }
   ],
   "source": [
    "display(string_pw)"
   ]
  },
  {
   "cell_type": "code",
   "execution_count": 38,
   "id": "d4901f9b-13f4-4b63-94bd-be7a41e17e8e",
   "metadata": {},
   "outputs": [
    {
     "data": {
      "text/plain": [
       "'Hello Password!!'"
      ]
     },
     "execution_count": 38,
     "metadata": {},
     "output_type": "execute_result"
    }
   ],
   "source": [
    "string_pw.value"
   ]
  },
  {
   "cell_type": "code",
   "execution_count": 37,
   "id": "c9df591e-50ec-450d-8837-49b708d7681e",
   "metadata": {},
   "outputs": [],
   "source": [
    "string_pw.value = \"Hello Password!!\""
   ]
  },
  {
   "cell_type": "code",
   "execution_count": 111,
   "id": "a6650cf7-8d13-4e6d-832f-1740cc957dee",
   "metadata": {},
   "outputs": [],
   "source": [
    "Toggle_button = widgets.ToggleButton(value = False,\n",
    "                                     description = \"Click Me!\",\n",
    "                                     button_style = '',#'success', 'info', 'warning', 'danger', ''\n",
    "                                     tooltip = 'Description',\n",
    "                                     icon = 'check'#FontAwesome에서 확인할 수 있음 # 'at', 'battery-3',...,\n",
    "                                    )\n"
   ]
  },
  {
   "cell_type": "code",
   "execution_count": 112,
   "id": "28e30331-df2b-4add-8386-a2207c6eff0c",
   "metadata": {},
   "outputs": [
    {
     "data": {
      "application/vnd.jupyter.widget-view+json": {
       "model_id": "0897b1cd17e447618a6ac3f4ea51d06f",
       "version_major": 2,
       "version_minor": 0
      },
      "text/plain": [
       "ToggleButton(value=False, description='Click Me!', icon='check', tooltip='Description')"
      ]
     },
     "metadata": {},
     "output_type": "display_data"
    }
   ],
   "source": [
    "display(Toggle_button)"
   ]
  },
  {
   "cell_type": "code",
   "execution_count": 41,
   "id": "ba307a4a-8420-4717-9c80-333a42e6c3e1",
   "metadata": {},
   "outputs": [
    {
     "data": {
      "text/plain": [
       "False"
      ]
     },
     "execution_count": 41,
     "metadata": {},
     "output_type": "execute_result"
    }
   ],
   "source": [
    "Toggle_button.value"
   ]
  },
  {
   "cell_type": "code",
   "execution_count": 45,
   "id": "e994571e-91f4-4c77-98b4-9df6ba76fc4e",
   "metadata": {},
   "outputs": [],
   "source": [
    "#Toggle_button.value = \"HI! i'm error\"\n",
    "Toggle_button.value = True"
   ]
  },
  {
   "cell_type": "code",
   "execution_count": 47,
   "id": "c8773d71-0d8a-486f-8518-e55d1204c95c",
   "metadata": {},
   "outputs": [],
   "source": [
    "check_box = widgets.Checkbox(value = False,\n",
    "                             description='Check Me!',\n",
    "                             indent = False,)\n"
   ]
  },
  {
   "cell_type": "code",
   "execution_count": 48,
   "id": "c3204a6a-abc9-427b-a487-799467b6bd57",
   "metadata": {},
   "outputs": [
    {
     "data": {
      "application/vnd.jupyter.widget-view+json": {
       "model_id": "3b85b8a4fde5476eb8f98c31ca0f4a1d",
       "version_major": 2,
       "version_minor": 0
      },
      "text/plain": [
       "Checkbox(value=False, description='Check Me!', indent=False)"
      ]
     },
     "metadata": {},
     "output_type": "display_data"
    }
   ],
   "source": [
    "display(check_box)"
   ]
  },
  {
   "cell_type": "code",
   "execution_count": 49,
   "id": "c5f0b012-a8ac-4221-8db6-4164977f522d",
   "metadata": {},
   "outputs": [
    {
     "data": {
      "text/plain": [
       "False"
      ]
     },
     "execution_count": 49,
     "metadata": {},
     "output_type": "execute_result"
    }
   ],
   "source": [
    "check_box.value"
   ]
  },
  {
   "cell_type": "code",
   "execution_count": 50,
   "id": "ad4f1e0e-be2f-4a3d-aeb4-0e67abb87df1",
   "metadata": {},
   "outputs": [],
   "source": [
    "check_box.value = True"
   ]
  },
  {
   "cell_type": "code",
   "execution_count": 51,
   "id": "88b5ed07-feac-49b4-bfe9-d9ca04c0520f",
   "metadata": {},
   "outputs": [],
   "source": [
    "Drop_down = widgets.Dropdown(options=[1,2,3],\n",
    "                             value = 1,\n",
    "                             description = 'number',\n",
    "                             disabled=False,\n",
    "                            )"
   ]
  },
  {
   "cell_type": "code",
   "execution_count": 52,
   "id": "17ef6c5e-d8e6-407b-add8-275da36eba28",
   "metadata": {},
   "outputs": [
    {
     "data": {
      "application/vnd.jupyter.widget-view+json": {
       "model_id": "6dc3cfcb209642e9a8c9221562a481f2",
       "version_major": 2,
       "version_minor": 0
      },
      "text/plain": [
       "Dropdown(description='number', options=(1, 2, 3), value=1)"
      ]
     },
     "metadata": {},
     "output_type": "display_data"
    }
   ],
   "source": [
    "display(Drop_down)"
   ]
  },
  {
   "cell_type": "code",
   "execution_count": 55,
   "id": "f5c6f4f5-0935-4755-976b-98d0ccd9c698",
   "metadata": {},
   "outputs": [],
   "source": [
    "Drop_down.disabled=False # True로하니깐 멈추는듯 보입니다. "
   ]
  },
  {
   "cell_type": "code",
   "execution_count": 59,
   "id": "c52517af-ae8a-4dfd-9d8d-4937f363562f",
   "metadata": {},
   "outputs": [
    {
     "data": {
      "text/plain": [
       "3"
      ]
     },
     "execution_count": 59,
     "metadata": {},
     "output_type": "execute_result"
    }
   ],
   "source": [
    "Drop_down.value"
   ]
  },
  {
   "cell_type": "code",
   "execution_count": 60,
   "id": "f2fda09c-ed04-4ddb-815e-bc4264dcaca7",
   "metadata": {},
   "outputs": [],
   "source": [
    "Drop_down.value = 1 # 범위를 넘어갈 경우 에러 "
   ]
  },
  {
   "cell_type": "code",
   "execution_count": 61,
   "id": "7a738d9e-8693-4489-806b-cd54816d4606",
   "metadata": {},
   "outputs": [],
   "source": [
    "Drop_down.options=[('One',1),('Two',2),('Three',3)]"
   ]
  },
  {
   "cell_type": "code",
   "execution_count": 63,
   "id": "f5aa4a38-b700-4b34-b07c-4255cacf84ac",
   "metadata": {},
   "outputs": [
    {
     "data": {
      "text/plain": [
       "2"
      ]
     },
     "execution_count": 63,
     "metadata": {},
     "output_type": "execute_result"
    }
   ],
   "source": [
    "Drop_down.value"
   ]
  },
  {
   "cell_type": "code",
   "execution_count": 68,
   "id": "db4a34ef-54b9-4302-b451-6450945ad537",
   "metadata": {},
   "outputs": [],
   "source": [
    "Radio_button = widgets.RadioButtons(options=['CV','NLP','Recomm','CS'],\n",
    "                                    description = 'AI tech',\n",
    "                                    orientation='horizontal')\n",
    "\n"
   ]
  },
  {
   "cell_type": "code",
   "execution_count": 69,
   "id": "727ba86c-d0ee-4720-a01f-a72b85f448df",
   "metadata": {},
   "outputs": [
    {
     "data": {
      "application/vnd.jupyter.widget-view+json": {
       "model_id": "9e6d734e080a40be95c594f235d05903",
       "version_major": 2,
       "version_minor": 0
      },
      "text/plain": [
       "RadioButtons(description='AI tech', options=('CV', 'NLP', 'Recomm', 'CS'), value='CV')"
      ]
     },
     "metadata": {},
     "output_type": "display_data"
    }
   ],
   "source": [
    "display(Radio_button)"
   ]
  },
  {
   "cell_type": "code",
   "execution_count": 70,
   "id": "dd0fdd77-8c42-43e1-80ae-c5a0a014080a",
   "metadata": {},
   "outputs": [
    {
     "data": {
      "text/plain": [
       "'CV'"
      ]
     },
     "execution_count": 70,
     "metadata": {},
     "output_type": "execute_result"
    }
   ],
   "source": [
    "Radio_button.value"
   ]
  },
  {
   "cell_type": "code",
   "execution_count": 75,
   "id": "8d06f064-ecf8-4fcc-8291-a2287699b63d",
   "metadata": {},
   "outputs": [],
   "source": [
    "Radio_button.value='CS'"
   ]
  },
  {
   "cell_type": "code",
   "execution_count": 76,
   "id": "b424df58-7d6f-4b0b-b9f8-c44568e7f25a",
   "metadata": {},
   "outputs": [],
   "source": [
    "file_upload = widgets.FileUpload(accept='', # 허용할 확장자 ''은 모든걸 허용\n",
    "                                 multiple=False) #여러 파일을 업로드하고 싶으면 True"
   ]
  },
  {
   "cell_type": "code",
   "execution_count": 78,
   "id": "36cebe0f-5add-4fb2-bca1-0bfab6ba709a",
   "metadata": {},
   "outputs": [
    {
     "data": {
      "application/vnd.jupyter.widget-view+json": {
       "model_id": "2d9f9122ba434fed9214431d5bca18d0",
       "version_major": 2,
       "version_minor": 0
      },
      "text/plain": [
       "FileUpload(value={}, description='Upload')"
      ]
     },
     "metadata": {},
     "output_type": "display_data"
    }
   ],
   "source": [
    "display(file_upload)"
   ]
  },
  {
   "cell_type": "code",
   "execution_count": 79,
   "id": "6ae8d5bf-1a97-4ecf-87e4-470c313b74f3",
   "metadata": {},
   "outputs": [
    {
     "data": {
      "text/plain": [
       "{'정채연.jpeg': {'metadata': {'name': '정채연.jpeg',\n",
       "   'type': 'image/jpeg',\n",
       "   'size': 7284,\n",
       "   'lastModified': 1639412345271},\n",
       "  'content': b'\\xff\\xd8\\xff\\xe0\\x00\\x10JFIF\\x00\\x01\\x01\\x00\\x00\\x01\\x00\\x01\\x00\\x00\\xff\\xdb\\x00\\x84\\x00\\n\\x07\\x08\\x16\\x16\\x15\\x18\\x15\\x16\\x15\\x19\\x19\\x18\\x18\\x1a\\x1c\\x1a\\x1c\\x1a\\x1a\\x18\\x1a\\x1a\\x18\\x1c\\x1c\\x1a\\x1a\\x1a\\x1a\\x1a\\x18\\x18\\x1a\\x1c!.%\\x1e\\x1e+!\\x18\\x19\\'8&+/1555\\x1a$;@;4?.451\\x01\\x0c\\x0c\\x0c\\x10\\x0f\\x10\\x1f\\x12\\x12\\x1e4$!+14141444444446144444444444444444444444444444444444\\xff\\xc0\\x00\\x11\\x08\\x01\\x01\\x00\\xc4\\x03\\x01\"\\x00\\x02\\x11\\x01\\x03\\x11\\x01\\xff\\xc4\\x00\\x1c\\x00\\x00\\x00\\x07\\x01\\x01\\x00\\x00\\x00\\x00\\x00\\x00\\x00\\x00\\x00\\x00\\x00\\x00\\x02\\x03\\x04\\x05\\x06\\x07\\x01\\x08\\xff\\xc4\\x00E\\x10\\x00\\x01\\x03\\x02\\x03\\x04\\x06\\x07\\x04\\n\\x01\\x03\\x05\\x01\\x00\\x00\\x01\\x00\\x02\\x11\\x03!\\x04\\x121\\x05AQa\\x06\"q\\x81\\x91\\xa1\\x07\\x132\\xb1\\xc1\\xd1\\xf0BRbr\\x14#$34\\x82\\x92\\xb2\\xc2\\xe1Ccs\\xf1Dt\\x83\\xa2\\xb3\\x15\\xff\\xc4\\x00\\x18\\x01\\x00\\x03\\x01\\x01\\x00\\x00\\x00\\x00\\x00\\x00\\x00\\x00\\x00\\x00\\x00\\x00\\x00\\x02\\x03\\x01\\x04\\xff\\xc4\\x00)\\x11\\x00\\x02\\x02\\x01\\x02\\x04\\x06\\x03\\x01\\x01\\x00\\x00\\x00\\x00\\x00\\x00\\x00\\x01\\x02\\x11!\\x031\\x12AQ\\x81\\x13\"2q\\xc1\\xd1a\\x91\\xe1\\xb1\\xa1\\xff\\xda\\x00\\x0c\\x03\\x01\\x00\\x02\\x11\\x03\\x11\\x00?\\x00\\xd4PA\\x05\\x02\\xc2\\xb4\\xd1\\xd1)#\\xae\\x98zQ\\tn\\x15\\xe6\\xc9\\x14\\xa5T@\\x14\\xa6\\xed\\x94\\x8a\\xc0!t\\x04!S:g\\xd3V\\xe1\\xa6\\x8d\\x18}}\\xe4\\xdd\\xb4\\xf9\\x91\\xf6\\x9d\\xf8wo\\xe0f97\\xd2n\\x95\\xd0\\xc0\\xb3\\xaeK\\xea8Ki0\\x8c\\xe7\\xf18\\x9b1\\xbf\\x88\\xf7I\\xb2\\xc7v\\xf7K1\\x98\\xb2s\\xd4,\\xa6M\\xa9\\xd3%\\xad\\x03p.\\x1dgv\\x95\\x15\\x8a\\xac\\xe79\\xd5*\\xb9\\xcf{\\x8c\\xb8\\xb8\\xc9$\\xefq\\xf8\\x0f\\xf4\\x99\\xbd\\xe4\\xf2\\x1c\\x95\\\\\\xacE\\x14\\x8e\\xb6\\x8fd\\xf9\\xf6\\xc9\\x95\\xdfR\\xee6\\xee)\\x02G\\x0f\\x82\\x1e\\xb67y\\x81\\xf0Z\\x0c\\x7f\\x84\\xda\\x15(\\x12X\\xf2\\xc2DKI\\x1c~\\x04\\xa6\\x0e\\xc4\\x97\\x1c\\xc4\\xb8\\x9e\\xd3)\\x07\\xe2\\x8e\\x97F{\\x08\\x01\\xdb\\x9d(F\\x16\\x9d\\x95\\xd3lU0\\x1a*\\x97\\x01`\\x1c\\x1a\\xe2#Hs\\x84\\xf9\\xab\\xff\\x00G\\xfd#\\xd2y\\x0c\\xc4\\x0fV\\xff\\x00\\xbd\\x04\\xb0\\xfcG\\xb9c45O\\x19\\xc0\\xdcp;\\xbb7\\xach\\x11\\xe9\\xaa5\\x9a\\xf6\\x87\\xb5\\xc1\\xcdp\\x90\\xe6\\x99i\\x1cAFy\\xb2\\xc2:+\\xd2\\xda\\xd8\\x17@&\\xa6\\x1c\\x9e\\xb52n\\'W2}\\x93\\xcbC\\xe6\\xb6\\x8d\\x9b\\xb5ibi6\\xad\\x17\\x871\\xde \\xefi\\x1b\\x9c8\\'r\\xc0\\xbc9\\x17+\\x88\\xcb\\x8b\\x9c\\xa9\\xc4\\xbb\\x05\\x92\\tf\\xbc*\\xe9\\xd0\\x93\\x0e\\x82.p\\x86p\\xabh\\x9d\\x1dAs8Ae\\xa3i\\x89 \\x82\\x0b\\x98\\xb8\\xad$\\xa2J\\x92Ut\\xc7\\xd2\\x88\\xcbq*\\x9a\\xa2\\x84z\\x82\\xea7mm&a\\xe8\\xbe\\xab\\xf4`\\xb0\\xfb\\xce\\xfb-\\x1d\\xa5B^\\xa6R;\\x10=;\\xe9O\\xe8\\xcc\\xf5t\\xcf\\xeb\\x9e&~\\xe3t\\xcd\\xf9\\x8e\\xee\\xc2w,j\\xa5c$\\xea\\xe3rM\\xc8\\x9d\\xe7\\x9d\\xd2\\xfbSh\\xbe\\xadG\\xd5{\\xb3=\\xee$\\x9d\\xd3\\xcb\\x90\\x16\\t\\xa5!\\x031\\xd3\\xdeP\\x90\\xdf\\x81_W\\xbd\\xc6\\xdfZ\\xa6u\\xeb\\r\\xc8\\x98\\x9cAu\\xb4\\x1c>=\\xa9\\xb9\\t\\xe8[\\x0ekv\\xf9|\\xd2\\x0f\\xa9?P\\x83\\x88\\xe0\\xb8\\xdar\\xb4PQ\\xa6\\\\`),m,\\x81\\xac\\xdf\\x12\\xee\\xd24\\xf0R\\xbd\\x1b\\xd9\\xe2K\\xdc\\x05\\x81\\xd7N\\xf5\\x1b\\xb5\\x9f\\x99\\xee6\\xd4\\xe9!e\\x85\\x0c\\xd9\\xaa\\x90eA\\x10D\\xf3\\xe1\\xde\\xa3\\xe8\\x91)\\xe4\\x8f\\xa3\\x1f\\xe9i\\xa1\\xb3A\\xe4\\xa6\\xba3\\xd2\\x17\\xe0\\xaagd\\xba\\x9b\\xc8\\xcfO\\x88\\x1fi\\xbc\\x1e\\x07\\x8f\\xba\\xbe\\xf3\\xbc\\x1f\\xaea\\x1a\\x85]\\xc4v\\xfc\\xd2\\xb1\\x91\\xe9\\r\\x9f\\x8def2\\xad7\\x071\\xe33H\\xe7\\xee<\\xb8\\x82\\x9c,o\\xd1\\xefH\\xce\\x1a\\xb0\\xa0\\xf3\\xfa\\x9a\\xa6\\xd3\\xa3\\x1et#\\x80v\\x84q#\\x9a\\xd9T\\xd8\\x05\\\\FJ\\x06\\x04\\xd1\\x8b\\x91\\x92\\x95\\x08 \\x9cz\\xb0\\x87\\xab\\t\\xfc6/\\x12\\x1b\\xa0\\x9cz\\xb0\\x82\\xcf\\r\\x87\\x1a\\x12\\\\A\\x00\\xa6PV\\x92U%I*\\xba!\\xe9#-\\xc2\\xbc,\\x8f\\xd2\\xa6\\xda\\xcc\\xf1\\x87i\\xb3.\\xef\\xcet\\xf2Z\\xbe?\\x12)\\xd3}Gh\\xc6\\x97x\\t^n\\xdax\\xa3R\\xab\\x9e\\xe3.s\\x8b\\xcfi&=\\xeas^a\\xe0\\xf06u\\xc8jK\\x15Z,>\\xbf\\xda5#\\xed;\\xb8&U\\x1dt$k\\n\\xe7\\x12\\x80\\x04\\xa9=\\x9f\\xb2\\x9e\\xf81\\x00\\xabN\\x03\\xa2\\xec\\xb1|\\x9fr%4\\x86\\x8e\\x94\\x9eJ;(\\x12\\xa4\\xb0\\x18\\x02M\\xc5\\xb7\\xad\\x1f\\x03\\xd1f\\x1b\\xe5\\x81\\xb8Z|\\xb4S\\x98~\\x8d\\xd3o\\xd8\\x1e\\x02\\x129\\x8e\\xb4\\xbf%\\x17\\rK#\\x08kfA\\x07\\xde\\x00U\\x9d\\xa1\\x87\\xeb\\x1b\\x11\\xdb\\xafz\\xd8\\xb1;\\x15\\x99z\\xad\\x8eC\\xfd*\\xbe\\xd3\\xd83\\x98\\xc6\\xbb\\xfb7\\xcf\\x1f\\x92\\xc5!\\x9e\\x99\\x9b\\nE:i\\xb5\\xc4\\x8e?2\\x9ec\\xf0N\\xa6b\\x0c\\x1b\\x89\\x1a\\xa6/u\\xa4\\x1e\\xd5D\\xec\\x8c\\xa2\\xd6\\x06\\xaft\\x1bi\\xf5\\xe2\\xba\\x1fy\\xfa\\xff\\x00\\xc7\\xcd%P\\xddrP\\xd0\\xa8\\x91\\x0f\\x91u\\xb9t\\x0fl\\xfe\\x93\\x85iq\\x97\\xd3\\xfd[\\xf9\\x90:\\xae\\xeflw\\x82\\xb0Jo\\xb2\\xb9z4\\xdb\\x1e\\xa7\\x14\\x18OR\\xb0\\xc8\\xe1\\xcfV;\\xba\\xfd\\xc4\\xa5hk6\\xd4\\xb3tI\\x10\\x8fM\\xc9\\xb4\\xdd1d\\xb0\\x1d\\x04\\x10W\"q\\x04\\x10@\\x08 \\xb8\\xba\\xb9\\x0e\\x91ZIT\\xdd\\xa6\\x12\\xect\\xabBJ\\xa8\\x94\\x96l\\xa8\\xfaN\\xc7\\xfa\\xbc\\x19`7\\xa8\\xe0\\xce\\xefh\\xf97\\xcda/w\\xb4{\\xbe+R\\xf4\\xc1\\x8a\\x97\\xd1\\xa7\\xb8\\x07<\\xf6\\x9c\\xa0y\\x13\\xe2\\xb2\\xb7\\x8d\\xdcO\\xbc\\xac\\x93\\xc8\\xd1U\\x13\\xae\\x19X\\x07,\\xc7\\xbdse\\xe1\\xb3\\xbcN\\x93%)\\x89\\xf8B\\x94\\xe8\\xce\\x1e]?[\\x87\\xcd+t\\x8aF7$[\\xb6n\\x0c\\x08\\xb2\\xb1`0\\xa10\\xc1\\xd3\\xb0\\x85;\\x84e\\x94Q\\xd2\\xf6\\x1f\\xd0\\xa6\\x02x\\xd6\\xcaiL\\xa7l)\\x848X\\xa3qx0dqR\\xb0\\x91\\xa8\\xd5\\x94je/oll\\xec\\x88\\xeb\\x0b\\xb4\\xee\\xec<\\x16o\\xb50\\x0e\\xa6\\xe3b9\\x1d@[\\x85zR\\xab;{d\\xb1\\xed \\xb5b|&\\xb8\\xa9#\\x1bzM\\xa6\\x13\\xdd\\xab\\x83u\\'\\x96\\x1d\\xda&b\\xf7WYG#T\\xe8P\\'\\x18\\x1cIc\\xda\\xf1\\xa8#\\xbe\\xf3\\x07\\xcc&\\xc4\\xdaW);\\xe6\\xb5\\xac\\x18\\x9eON\\xec\\x8c_\\xad\\xa0\\xc7\\xefs\\x1aOx\\x06{\\xc4\\x1e\\xf4\\xec\\x15R\\xf4g\\x8b\\xcf\\x82`\\xde\\xce\\xaf\\xf4\\x92\\xd1\\xe4\\xd0\\xad\\xa5HaV\\xbd\\x197]\\x0f*\\xb1\\xd4\\xea#\\x8fAt\\x12\\x1e\\xb0\\xa0\\x9b\\xc4B\\xf0\\xb0\\xfe\\xadw\\xd5\\xa3\\xae\\x85\\xbc\\x11\\x0e&\\x10S]\\x14\\xd1\\xc2\\xe3\\xcc\\x02\\xb7\\x86!\\xc4\\xd9\\x87\\xfaO\\xc5\\xe7\\xc6<nh\\x00xk\\xe4\\x15)\\x97pS\\xfd1\\xc4g\\xc5U<\\x1cGsl\\x15~\\x81\\xb9<>J}J\\xf4B\\xaf \\xcf\\xd6\\xf2\\xac\\xfd\\x14\\xa1\\xd5\\x07\\x8f\\xb9Ui\\x9b\\xc7\\x10|T\\xd6\\xc7\\xda\\x15\\x1a\\xdc\\xaca\\'I\\x02T\\xe4\\xb0R\\x0f&\\x8f\\x85\\xa7\\xa2\\x97\\xa2agT+\\xe3N\\x81\\xc0s\\xb2\\x93\\xc1\\xe2\\xf1 \\x8c\\xf3\\xdbt\\x9b\\x15\\xbb/lz}\\x87;\\xd5k\\t\\x8c$]?f \\xc6\\xab,\\xda&\\x9dU\\xbcSg\\xd4h\\xd5\\xc3\\xc4*\\xd6>\\xbb\\xcc\\x80TEM\\x98\\xf7\\xea\\xf2;\\xca8\\x908\\xb2\\xee\\xfcC>\\xfb|B\\x8f\\xc7S\\x04\\x18U\\xca;\\x01\\xc3Z\\x9e\\rK\\xb3f\\xd5g\\xb1T\\x1eE\\xb6=\\xb7Z\\xdaf$\\xd1Z\\xe9f\\xc9\\xce\\xdc\\xc0u\\x9b+=s\\x0b\\\\A[>#\\x0eKz\\xc0\\x03\\xbe4\\x9eK5\\xe9F\\xcf\\xc8\\xf2@\\x89M\\xa7*tKV6\\xb8\\x88\\x17>\\xd0\\xb9\\x87:v\\xc2_e\\xe1}mV\\xd3s\\xa08\\xdc\\xf2\\x00\\x93\\xeeN6\\xb562\\xa1k\\x044\\x08\\x07\\x8cj|U[WDT]q\\x1a\\x97\\xa1\\x8cU\\xab\\xd1\\'B\\xd7\\x81\\xdb \\xff\\x00kV\\xa0\\xeak\\x0e\\xf4Y\\x8c\\xc9\\x8dm\\xe0>\\x9b\\x9b\\xdaD8\\x0f/%\\xba\\x84\\xd1\\x8ak\"\\xc9\\xb4\\xf0 XQr\\x14\\xe4\\xa2\\x94xh8\\xd8\\x8eB\\x82Y\\x05\\xbe\\x1cL\\xe2ae\\x0c\\xe9\\xbc\\xa1)\\xe8A\\xd0pH\\xe3\\x1f\\xd4u\\xe3\\xaa}\\xc5\\x10\\x15\\x15\\xd2|Yf\\x1a\\xb3\\xe6\\xe1\\x84\\x0e\\xd2=\\xf0\\xb1\\xecj0]\\xad[;\\xea<h\\xe7\\x98\\xec$\\x91\\xe4\\xa3\\xb3\\xc3\\x0f4\\xae!\\xd6\\xed$\\xa6\\xd5\\x8d\\x80\\xefQ[\\x17{\\x8a\\xb1\\xf0B\\xb3l\\xbd\\xa2\\xcaL\\x97\\x1b*\\x9b\\x0f\\xbdO\\xe0\\xf6I{\\x1a\\xeb\\x90u\\x1d\\xfc\\x12\\xce\\xb9\\x94\\xd2\\xbb\\xc18\\xce\\x9a\\xb1\\x9f\\xf1\\xbc\\xb6b`yIR\\xfb7\\xa4t1\\x1dV\\xcb_\\xf7\\\\ \\xe9\\xb8\\xe8w\\xaa\\xf5}\\x83\\xeb\\x18\\xd6\\xe7kCf-\\xc7t)\\r\\x97\\xd1\\xec\\xa1\\xe0\\xbf;\\x9f\\x97\\xaf\\x04\\xe5\\xcad\\x16\\xf3\\xefS\\xa8\\xd1j\\x9d\\xe4\\xb1\\xd0$;[\\x1d\\x14\\xe5*}YP\\xb4p\\xe5\\xb9\\x03\\x8c\\x91\\xa9\\x88\\x9ep\\xad\\x18j}D\\xa9\\x0c\\xf0\\xca\\xfdq\\x0eU\\xcd\\xbb\\xd2\\x17\\xd3\\x0e\\xf5l\\xcd\\x923\\x13f\\x890\\x01\\xe2o\\xa2\\xb9bp\\xb9\\xa65\\x85U\\xc5l\\x9b\\x1688\\xb5\\xda\\x8bA\\xbc\\xee\\x08Is\\x07mcr\\xb7\\x81\\xe9^5\\xeek\\x1a\\xearA \\x06\\xda\\xcd\\xcdr\\x1dc\\x03z\\x99\\xd9},{\\xba\\xb5XZx\\x80`\\xa7X-\\x83E\\x97m#7\\x13&o\\xe6\\xa6\\xf0\\x1b\\r\\x93\\x98\\xb0xY\\x12i\\xec\\x821q\\xf5;\\rM\\xf9\\xdb;\\x8a\\xa6t\\xdb\\x0b\\xd4\\x0e\\x8d\\xf0\\xb4w\\xd2\\x00@\\x10\\xaa\\x1d1\\xa2\\r\\x07\\x9e\\x10Q\\x16,\\xd1\\x9flz,\\xce\\xc78\\xef3\\x1a\\xc7\\x0bqJt\\x99\\x83;\\\\\\xd1k\\x84\\xbe\\xcc\\xa5\\x92\\t\\x81\\x9b\\xd9q\\xb0k\\xb5\\x87~\\x13\\x1a\\xee\\xbaq\\xb7\\xda\\xc7Q\\xce>\\xf8\\xee\\'\\xaaGr\\xa5\\xf9\\x90\\x9c+\\x81\\x91\\x9d\\x1c\\xc5\\xfa\\xbcE\\'\\x93\\x01\\xb5\\x1b=\\x93\\x07\\xc8\\x95\\xe9\\x8c-L\\xeck\\x86\\xf0\\n\\xf2\\xa3\\x0c\\x15\\xe8\\xfe\\x83c\\xc5\\\\-7\\x03\\xf6D\\xfeh\\xeb\\xff\\x00\\xf6\\xcc\\xaf\\x17\\x93\\x92[\\x16\\x15\\xc2\\xba\\xb8U\\x058\\x82\\x08,\\x01\\x9a0\\\\]\\t\\x85\\x00U\\x0fH\\xd8\\x9c\\x98B\\'\\xda$\\x9er2A\\xfe\\xbf%m\\x7f\\xd7\\xc5g\\xde\\x95\\xebE\\x167\\x8b\\xe0\\xf7\\x02\\xef\\x88\\xf0K\\'\\xe5\\x1a+\\xccd\\x95\\r\\xc0Hb\\r\\xd1\\x8b\\xae\\x92y\\x92\\xa4\\x8a6)H\\\\-?\\xa2\\xb8a\\xeaYo\\xb2\\x0f\\x8d\\xfe!f\\x98VK\\x873\\x0bY\\xe8\\xf3z\\x8c\\xe4\\xd1\\xeeR\\xd5:tQ-O\\x048\\x04\\xf6\\x9e\\x14\\x01t\\xad\\x18F\\xc4T\\x00)\\xa2\\xcc\\x8b\\xc4\\x91\\x9cv\\xab\\x15&\\xc3\\x02\\xa8R\\xc4g\\xac\\x06\\xe5s$e\\xeeL\\x84cL\\xb7\\x94s\\x85i3\\t\\xa1\\xac\\xe0L\\t\\x84\\xbe\\x1fh\\xb4\\xd8\\xd8\\xacLf\\x98\\xe1\\xb8\\x16\\xf0]\\xabL\\x00\\x96mv\\xc6\\xa9\\n\\xf5\\x01C1\\x0ck*gL\\x9f\\x14_\\xcc+}w\\xaaOM*\\x80\\xc9v\\x80\\x82{\\x01\\x93\\xeeY\\x14d\\x88\\xb3\\x81h\\xa6\\xc9\\xfb-\\xb8\\xdd05\\xe4\\xa9\\x18\\xccC\\x9crf9\\x1a\\xe9\\x03t\\xe9!Z1\\xdd%\\xa6\\xea&\\x9d K\\x9e\\x00%\\xcd\\x82\\xd8\\xde\\x0f\\x1b\\xaak\\x84:;\\x15t\\xe2\\xf7g>\\xac\\xd3\\xc4C\\xe6Z\\xf7\\xa1\\xbd\\xa59\\xe8\\x13\\xac9\\xbd\\xba\\x1fw\\x9a\\xc7\\x82\\xb9\\xfa4\\xc5\\xe4\\xc6S\\x13\\xed\\x12\\xdf\\x10O\\xc1WfKtz\\x15\\x02\\x8a\\x1d0{\\x91\\x8a\\xa0\\x87\\x10A\\x04\\x00\\xcdt..\\xa6\\x14)\\xd7\\xeb\\xebr\\xcb=0\\xd5\\x83M\\xb3\\xb9\\xc7\\xc8\\x0f\\xae\\xd5\\xa9\\x8d\\xeb\\x1d\\xf4\\xbd^qT\\xd9\\xf7i\\x83\\xfdNv\\xbf\\xd2<ROa\\xe1\\xb9\\x9e\\xba\\xc8\\x8c\\x08T;\\x91\\xe9\\x8f\\x92A\\xc5p\\xae\\xeb\\x81\\xc3\\xeb\\xe6\\xb5\\x0e\\x8fb\\x86F\\xac\\xb5\\x86\\x1e\\xd3\\xc0\\xab\\xb6\\xcaylF\\x9a\\xa9j+-\\xa3*4Z5\\xec\\x99mJ\\x84\\xb0\\xc1\\xbc&8lI\\x84q\\x8c\\x0e0\\xa4t\\xd9\\x19Oi5\\xaea\\x9b\\x8b\\x10\\xac\\xee\\xdbm\\xc9\\x128\\xf3P\\xb8\\xcd\\x96\\xc7\\xf5\\xa0sK`\\xf6;Z\\x01\\xcc\\xe7\\x1e\\x13d3\\x10\\xea\\x86\\xda\\x0e9C*_~[\\x1f\\x8f\\x88K\\x0c+\\xa0\\x93g\\x13=\\x9c\\x93\\xaal`>\\xd3GxB\\xadf\\x81\\xa8=\\x85e\\x0c#G\\x10E\\x8apq\\n,\\xe2\\x01q\\x02\\xfc\\xc2V\\xe8\\xb0\\x17\\xabVU\\x0f\\xd25X\\xa6\\x1b\\xf7\\x88\\x1f\\x1f\\x82\\xbbh\\xb3OHX\\xbc\\xd5\\x18\\xc1\\xba]\\xf0\\x1f\\x14\\xf0W$CU\\xd4Y[\\xc3\\xb0&\\xf5=\\xa4\\xe9\\x86\\xdf\\\\\\x13j\\x83\\xad+\\xa1nr\\xb5\\x80\\xaen\\xf51\\xd1*\\xd91T\\x9d\\xff\\x00Q\\xbef>*&\\x8d\\xc9\\x1c~\\xbei\\xc6\\xcfvZ\\x8c#s\\xda|\\xc2\\x18#\\xd4\\xf4]r;\\x08\\xef\\x9f\\x92U6\\xa2D\\xb4\\xf1o\\xbe\\nt\\xa8!\\xc4\\x10A\\x001]:..\\xa6\\x14)\\x17\\xf3\\xf7\\xac/\\xd2^#>>\\xa9\\xfb\\xa1\\xac\\x1c\\xb2\\xb4[\\xeb\\x8a\\xdc\\xf9\\xfd[O\\x8a\\xf3\\xb7L19\\xf1U\\x8e\\xe1Q\\xe3\\xfa\\\\G\\xc1$\\xca@\\x81\\x02J^c\\xb8y\\x94\\x83\\\\\\x8e\\xc0M\\x92\\x1au\\xe6\\xd2\\xad]\\x1e\\xc6\\x070\\x03\\xa8\\xb2\\xac\\x112>\\xa5\\x1beb\\xf28N\\x87\\xde\\xb2Q\\xb44eR5M\\x9d\\\\hw&\\xfbog\\x1f\\xde\\xd2{\\x98\\xe1\\xac]\\xa4s\\x1f%\\x1d\\x81\\xc5H\\x04\\x15`\\xc1\\xd6\\xcc \\xaev\\xa9\\x9dq\\x91V\\x18\\x8cA\\xfb`\\xf6\\x92<\\x93\\xa6bq-\\xd0\\x8b\\xfe#\\x1e\\xe53\\x8a\\xd8\\x80\\x9c\\xcc\\xb7$\\x87\\xff\\x00\\xca\\xa9\\xf7|\\xd2\\xc93\\xbbOWJ\\xbc\\xca\\x88\\xf7\\xb2\\xbb\\xae^\\x1b\\xd8\\x9e`6\\x1b\\xea\\xfbu^\\x1b\\xbf)\\xcb=\\xe2\\xeac\\x01\\xb1\\xcd\\x8b\\x87\\xc5M\\xd3\\xa0\\x1a ,I\\x8b\\xab\\xad\\x16\\xaa(gK\\x04\\xcam\\x0cc`\\x0f\\x1e\\xd2w\\x95\\xd7\\x14\\xadb\\x99\\xd6|\\x04\\x1c\\xa2\\x18\\xecNV\\x95\\x90\\xed\\xdcW\\xac\\xc4=\\xd3 \\x1c\\xa3\\xf9u\\xf3\\x95x\\xe9&\\xd0!\\x8f\\xcan\\x1ao\\xc2\\xde\\xf5\\x9b\\xb4h\\xaf\\xa4\\xb9\\x9c\\xda\\xd2\\xd9\\x0f\\x18l\\x93\\xaa\\xdb\\xa3\\xb3O\\x04Z\\xe3ERLB\\x91\\x87\\x84\\xb7\\xdb\\xec)\\t\\xeb\\x0e\\xd4\\xe6\\x93%\\xf05%\\x0c\\xc4z\\x87\\x06e\\x8c?\\x85\\xbe\\xef\\xf6\\x9e\\xa6\\x98FC#p\\x10\\x9d\\xca\\xa0\\x80A\\x04\\x10\\x03\\x15\\xd0\\x17\\x02\\xe8L(\\xdb\\x19S%7\\xbb\\xee\\xb4\\xbb\\xc0J\\xf3.>\\xb6w\\xb9\\xc4\\x92\\\\K\\x8c\\xebs+\\xd0\\xdd5\\xaeY\\x81\\xc48\\x189\\x0bG\\xf3[\\xe2\\xbc\\xe3P\\xdc\\xa4\\x96\\xe3\\xc7c\\x818\\x0e\\xca9\\xa6\\xec)v3P\\x94`\\xb4\\x9dt\\x8e!\\xb0R\\x80.\\xd7\\x12\\xd9\\xde\\x10\\x0c\\x93\\xd8\\xdbS)\\rq\\xec*\\xf5\\xb21\\xa0\\xefYB\\x9b\\xd8\\xfb]\\xcc0o\\x1e1\\xf1I8\\xf3E!:\\xc36\\x8c\\x13\\xc3\\x80R4\\x80\\xe0\\xa8{\\x1fo\\xb4\\x8dU\\x96\\x8e\\xd4a\\x1a\\xa8<\\x1d1vX\\x0cF\\xe4\\xcf\\x11P&gh\\xb65Qx\\xcd\\xaa\\xdd\\x01\\x92\\x95\\xb1\\x87\\x98\\x8cHP\\xd8\\xdcYwU\\x9d\\xe7pD\\xeb\\xbf[\\x0f4\\xee\\x86\\x12\\xd6\\x16J\\xd8\\x15\\x0e\\x933%\\x07\\xf3\\x80{\\xc8T\\x91\\xb9_:ujP8\\xb7\\xde\\x15\\x089t\\xe9zNMoP\\xed\\x87\\xdc\\x8c\\xf6\\xdb\\xb1&\\xc3a\\xc9.\\xdf\\xae\\xf5A\\x06-\\xd4)M\\x8a\\xcc\\xf8\\x9ac\\xefTg\\xf7\\x05\\x1dQ\\x90J\\x9b\\xe8\\x850\\xecn\\x1d\\xa7{\\xc7\\x90\\x99\\xf2@\\x1e\\x94\\xa4\\xd8o+\\xfc\\x91\\xdam\\xe0\\x89K\\xd9l\\xfd\\xdb\\xa5\\x1a\\xdb*\\x13:\\x82\\x19P@\\x0cWB(F\\x05h\\xa4\\'L\\xa8\\x17\\xe0\\xb1\\x0ch\\x92i\\xba\\x0703\\x0fr\\xf3s\\xc5\\xca\\xf5.$KO\\xd7j\\xf3\\xafJ\\xf6`\\xc3\\xe2\\xaa\\xd3\\x1e\\xc8~f\\xf2k\\xba\\xcd\\x1d\\xc0\\xc7rYu\\x1a=\\x08Zz\\xa7dA\\x1e\\x055\\xa4\\xdb\\xa7O\\xe0\\x91\\x8e\\x82>\\xc5*\\xc6Ozn\\xe2\\xb9N\\xa1\\x084C\\x11H\\xb5\\xc4\\x14jsb\\x0c\\x11\\xa1\\xe0\\x9c\\xd6xp\\xbaJ\\x83/\\x97\\x8a/\\x06VI\\x9c\\x16Z\\x82b\\x1c,H\\xb1\\x07\\xb4)\\\\0x\\xb0\\xa8\\xef#\\xef\\n#c2\\x1e\\xe6\\x93\\xa8\\x04y\\xabN\\x1b\\nI\\xd1BxgL\\x15\\xa1L=\\';W\\xbc\\xf2\\x98\\xf7)|.\\x04\\x0b\\x91\\xf3\\xefG\\xc0\\xe1cA%LQ\\xc3qRl\\xb2\\x88\\x85\\x0c4\\xee\\xb2sR\\x9c\\x04\\xed\\xac\\x84\\xdf\\x14l\\x90b\\x85\\xd3Zy\\xa9;\\x90\\x9f\\x02\\n\\xceAZ\\xbe\\xdd\\xc3\\xe7k\\x9b\\xc5\\xae\\x1e!e5\\x18ZH:\\x82A\\xee]Z/\\x14q\\xeb,\\xd8\\xbd\\x17\\xa7t\\xdd\\xf5\\xc9G\\xb1\\xc9\\xc3*y*\\xb2I\\x8e\\xaa\\xd2\\xcc-\\xa8N\\xba4\\xf2\\xdcV\\x1d\\xdaEF\\x8f\\x13\\x1f\\x14\\xd6\\x9dD\\xbd;8=\\xbe\\xd3\\\\\\x1d\\x1c\\xc1\\x91\\xdfd\\xa6\\xd5\\x9e\\x9cf\\xf1\\xbfO\\xae\\xe4\\xbc(\\xfd\\x95\\x8amJlx>\\xdbZ\\xeeW\\x13\\x1d\\xb7R\\x01Y\\x13\\x02\\x0b\\xa8 \\x08\\xd0\\x81@\"=\\xf1\\xaa\\xd1AWE\\x90t\\xafe\\xfa\\xd7\\xe2j\\x9f\\xb1U\\xad?\\x94S`\\x04\\x1eD\\xf9\\xad\\x07n\\xf4\\x86\\x95\\x06\\xf5\\xdd}\\xcc\\x17s\\x8f\\xd7\\x15\\x97m,k\\xaa\\xbd\\xee \\x89pv[\\x91v\\x81\\x98\\xc7\\xe5K&\\x87\\x8aweI\\xd4\\xf28J\\xe5W\\xf8\\x14\\xe7\\x1cA\\x9e\\xdf\\xa0\\xa3\\x9c\\xf55\\x91\\xde\\x0e\\x92\\x8a\\xe2\\xb9(&\\x14\\x19\\x91\\x99R\\x0c\\xa2\\x15\\xc4\\x1be\\xbb\\xa3\\x0ec\\xea\\x10D\\xcb\\x00#\\x81\\xcc~j\\xff\\x00\\x84\\xa4#)\\x02F\\xf8\\xd7\\x9a\\xc7v~)\\xf4\\xdc\\x1e\\xc3v\\xf9\\x8e\\x05k]\\x1b\\xdaL\\xc41\\xafi\\xb8\\x86\\xbd\\xbb\\xc1\\x8d<\\x976\\xacZvuh\\xcd5\\\\\\xc9\\xaa\\r\\x1b\\x93\\x96\\xa2\\x8aIQMD\\xb9\\xc7\\x14\\xce\\xb8\\x94\\xf5\\xcc0\\x92s,\\x81H,N\\x1eUk\\x0f\\xd1FT\\xc4\\x17\\xbcE3s2\\x01w\\xdd\\x105*\\xf6\\xdc)~\\x96\\x16\\xbcZ\\xe6,\\xa4\\xe8l\\xf0\\xc1a\\x02A\\x90e\\xba_5\\xa7\\xbc\\xc8T\\x8d\\xac\\xa2Z\\x8e;35\\xdb\\xdd\\x0f\\xa6D\\xd3nC\\xf6\\\\\\x08,v\\xb3$h{U\\x0f\\x1b\\x81}\\x17\\xe5{H\\xf7/@V\\xc3\\xe9\\xa3d{]R\\xc7\\xf0\\x91\\xa7\\xfel\\xa8=1\\xd9\\xa1\\xec\\xb0\\x87\\\\\\x11\\xac9\\xa6:\\xbc\\x8ci\\xc9R3k\\x0c\\x8c\\xa2\\x9e\\xc6p\\xc7x%\\xdbQ%\\x8a\\xc2\\xbe\\x99\\x874\\x84\\x9b*+\\te\\xf7\\xa2\\xde\\x90*\\xe1\\x98)=\\xbe\\xb6\\x93t\\xb8\\x0fh\\xe0\\t\\xb1\\x1c\\x8f\\x8a\\xd3\\xf6\\x1fMp\\x98\\x88\\x0c\\xc45\\xae?\\xf1\\xbcd|\\xf0\\x01\\xc6\\xfd\\xa1y\\xdc:\\x12\\xd4\\xf1\\r>\\xdbs\\x0f\\x03\\xdcP\\x9d\\x18\\xd5\\x9e\\xa9\\x159xh\\xb8\\xbc\\xf9\\x82\\xda\\x000\\x06m\\n\\xb4\\x9a,\\x18E[vd|Gp\\xecA?\\x10\\xbc&\\xa5\\x8c\\xe9#\\xd9?\\xb3<p/s\\x1b;\\xa4\\t>\\xf4\\xcf\\x15\\xb4jT\\xa6K\\x1f\\x93\\x8b\\x83\\x0b\\x9c\\xd3\\xbaZb\\x0fh\\xe0\\xa56\\xd6\\x1cz\\x96\\x11\\xa1#\\x8d\\xad\\xa75\\x0fV\\x8f\\xab\\xa4\\xda\\xec\\x00:K\\x1d3p]\\r\\xd6\\xd6tx\\x91\\xbdI\\xcd\\xdd\\x0c\\xa3\\x8b+\\x1bS\\xa3O\\x83Q\\xafuWM\\xdc]&\\x7f\\x13M\\xd46\\x1f\\x14\\xc0\\xf3\\x9eX\\xe2\\xc2\\xd74\\xee{:\\xc3]\\xce\\x05\\xdc\\xc2\\xd6Y\\x87\\xa6\\xfa-\\xa8\\xde\\xa1#\\xdah\\x88q\\xb4=\\xba\\x1e\\xd2\\xb2\\xff\\x00HxP\\xc7\\xb73C^\\xeb\\xcb}\\x874\\x13~GO\\x15\\x89\\xd9\\xb4S\\xb1\\x95e\\xee<Orh\\xf0\\x83\\xe4\\xb9u\\xe9\\xd1\\x82r\\x84\\xae \\x98P\\xcdr\\x04\"\\x84v\\xf0@\\x07\\xa5\\xbc)\\xae\\x8dmwak\\x87D\\xb2\\xc1\\xed\\xe2\\xd9\\xd4s\\x13#\\xbf\\x8a\\x83\\x16!H1\\x99\\xd8H\\xf6\\xe9\\x8b\\xf3f\\x93\\xda\\xd9\\xf0I%c\\xc1\\xd37\\xfc%F=\\x8d{H-p\\x04\\x11\\xa1\\x06\\xe0\\xa5KB\\xa3z8\\xc5>\\xa6\\x19\\xec\\xcd\\xfb\\xa7\\xc3m\\xf6\\\\\\xd2\\xf6\\x81\\xde\\x1c<\\x15\\xd9\\xd8\"\\xd0\\x1cI-\\x06\\xe1\\xc4I\\x163\"7\\x19\\x8eK\\x95\\xc5\\xa7G_\\x8a\\xa8+\\xf8y\\x0b\\x95\\xd6a\\x0b\\xf7\\x10=\\xe0D\\xdf\\xbc\\'\\xa7\\x0c\\x00\\x12\\x00\\xdc\\xe2\\x04\\xdcGY\\x80\\x88\\xe0WMG\\x075\\xe4ea\\x04\\x90~\\xc9\\xd0\\xb8v{\\x8f`L\\xa2\\x96\\xe4\\xe5\\xaa\\xde\\xc7X\\xc8d\\xb4NRb\\xfb\\x84C\\x9b=\\xd2\\n\\x0ei\\x90[!\\xa6Ilk$\\x1e\\xe3\\xb8\\x8e{\\xc5\\xd7\\\\\\xf0\\xc7\\x97\\x03\\xa9\\xbc\\x91\\r\\x89i-\\x06\\xf9\\x81\\xf1\\x1d\\xc9\\xbdz\\x90\\xec\\xb9].\\xb8\\r\\x89${1;\\xa0\\x95\\xb6O#lQ\\x02X\\x08kf[k\\x03\\xac7[\\x99\\xfa\\xd5Eb0\\x00\\x0fYPE\\xf3\\x06s\\xfb\\xc7\\x99S\\xed\\xa2)\\xb0>\\xb1\\xcc\\xf0\\x08h&c\\x90\\x1b\\xcc&\\xb4\\xf0\\x8f\\xc4C\\xea\\x08\\xa64\\x17\\xb8\\xd7S\\xba7\\xa2\\xbfa\\x7f\\xa2\\x83\\xb46\\x01\\xc4\\xbb9l3\\xcf\\xb3\\x9a\\xaam>\\x8c\\xc3\\xa2\\x9c\\xbb\\xcf\\xb9k[K\\x10\\xd7\\x0c\\x94\\xc40\\x0bF\\xfbnCbl\\x9b\\x97\\xb9\\x9a\\xb7\\xab\\xd9\\xca\\x16\\xa9\\xbb\\xa4kJ\\xad\\x98\\xae3`W\\xa4D\\xb6\\xc7Kj\\x9bU\\xd9\\x95Z%\\xd4\\xdc\\x07\\x11v\\xf9-\\xbfg\\xe1\\x9a\\xf7:\\x95V\\xcc\\xc9h;\\x8e\\x84rH\\xe0\\xf0B\\x95SI\\xed\\x96\\xcc\\\\q\\xd0\\x8ePBe\\xa8#\\x89\\x87\\xfa\\x87\\xf0(-\\xb7hl\\x01M\\xe5\\xac\\xa7\\xd5\\xd4F\\x97Ao\\x89\\xf8\\x0e\\x15\\xd4\\xb0Q\\x02\\xae\\x1d\\xcc>\\xd3|mv\\xf6\\xdam\\xd8\\xa3\\\\\\xec\\xf8W\\xb3{]~PC\\xc0\\xb6\\x9a\\x1d\\xc9\\xce\\x7f\\xd1\\xeb\\x19=By\\xc0\\x0e\\xd2\\xdb\\xce\\x97\\xedU\\xad\\xbd\\xd2\\x06\\xd1\\xadQ\\x94\\x03\\\\\\\\$\\x92Hc\\x1d\\x06K\\x88\\xb9:\\x98l\\x1b\\xa5Y\\xff\\x00\\r\\x7f\\xd1\\xc6+n\\xd1\\xa1\\x81\\x19\\x9d\\x0e.!\\xad\\x00\\x92\\xe2\\x1c\\t`\\xb5\\x89\\x05e;\\x7fkT\\xc4\\xbf5Gh2\\xb5\\xb3\\xec\\xb6d\\x03\\xcd:\\xaa\\xe7\\xb8\\xba\\x0c\\xba\\xfd}\\xe1\\xa7R\\xd9\\xf6[{\\x9f\\x8d\\x94@\\xa7%R*\\x85n\\xce\\xb5\\xb6\\x9f4\\x8b\\xe9\\xf1KU\\x7f\\xfa\\x1f4\\x83\\x9cO\\xcd21\\x89\\xb8\\r\\xc8\\x90\\x8cB\\xeeE\\xa2\\x84`\\xbaX\\xb3\\xac\\x8a\\xc1tg\\x94\\x00G\\x1b\\xa7{>\\xbeG\\xb4\\x9b\\x89\\xb8\\xe2\\xd3g\\x0f\\x04\\xc9\\xc9VqX\\xc6[\\x9a/\\xa3<G\\xab\\xc4V\\xa2tsA\\x13\\xf8\\t\"\\xc7^\\xab\\x8e\\xe9\\xb2\\xd6\\x1aIde\"\\x00\\x1a\\x9b\\xc6f\\x96\\x9b\\x8d\\xd9m\\xcfz\\xc565_W\\x8c\\xc2\\xbf\\\\\\xcdfi1\\xedZ\\t\\x1c\\x9c5[\\x1d|\\xacs\\x19\\xd5!\\xce\\xb9v\\xa0\\x97\\x8b\\x0b\\xd8v\\x82\\xa3.\\xa5\\x10\\xa3\\xb1\\x10\\xc6\\xb5\\xce\\x03\\xec\\x92\\x0fkI<\\x05\\x80\\xbe\\xfd\\xc8\\x86\\xb44i\\x90GY\\xfb\\xc0\\x04\\x03\\xa3\\x8e\\x80\\x19\\xe1\\xc1sj;\\xd5\\xd4\\xa6\\xd6\\x98i-%\\xb1\\xf8\\xfd\\xa2\\x07\\x1e\\x1c\\x976\\xbb\\x80\\xafM\\xa2\\x01\\xea\\xcfW@\\\\@\\xcd\\xc4[D\\x8e\\xc1PM\\xa9,cZn\\xe7\\x0b\\xbaN]\\xd9\\x9a\\x1a=\\xff\\x00AL\\x0b\\xdbJ\\x98\\xac\\xf2\\x1c\\xe7\\x0e\\xa9\\x99\\x91\\x16\\r\\x9b\\x89\\x06\\xe9=\\xb6\\xcc\\xf5\\x98\\xdd\\xf0?5\\xddc\\xc3\\x8fj\\x1bp\\x17U\\xa7M\\xba@\\x8dM\\xc9\\xd6\\x05\\xa0\\x01\\xe0J6m\\x9b\\xbaH\\xe6\\n\\x8b\\xeb\\xbb\\xd6\\xd5=F\\xe8\\x04\\x86\\xda\\xf6\\xd6\\xd0\\x9b\\xedM\\xa1\\x9f\\xa8\\xcb2\\xc0@\\xf6\\xf7\\x88\\x8d\\x00\\xe0\\x9d\\xed\\x87\\x965\\x94\\x18 \\x18\\xb0\\xd6\\x01\\xb0\\xd7\\x8e\\xfei\\xc6\\x03g2\\x99`\\xfbd\\x1dt\\x10&\\xc3\\xb4\\xf9\\xa2\\xb9.\\xe6ZY}\\x88\\xfc\\x16\\xc9\\xb1\\xa9T\\xb9\\xb1q\\xb8\\x82\\x06\\xb2\\nu\\x8fy\\x0c\\xa7Y\\x87\\xa8\\xd8%\\xb2y\\\\\\xdf\\x92uM\\xce{\\xea\\xd2~\\xa4\\x08\\xfc\\xb1\\x13\\xdb\\xcd6\\xd9\\x06Z\\xfa\\x0f\\xdd>\\x06\\xdaG\\x1b\\xa6\\xa5\\xb21\\xb6\\xf2\\xc6\\xdb~\\x9c\\x06Va\\x8d/\\xae\\xb7\\x068\\x99>\\x08\\x9bb\\x98s\\x19Y\\xb7\\xb0\\x98$\\xeb\\xef\\xbc\\xa78\\ny\\xe8>\\x93\\x8c\\x96\\x174q\\x1b\\xc4w\\x8dP\\xd9\\xcc\\x0f\\xc39\\xb2%\\xb9\\x87x\\xeb\\t\\xe09,y\\xee\\t\\xd7bG\\x0e\\xe69\\x8dq\\x03\\xac\\xd0n`\\xdcp]D\\xe8\\xfb\\xf3Pl\\xea\\xd9n\\xfd\\xc6\\xdeH&\\xb4/\\tK\\xe9\\xae\\xd1\\xcdI\\x85\\x87\\xac@$\\x87NV<\\x03<\\xdd$\\x0bh\\xaam\\xc1\\x97\\xd2\\xce\\x00\\x01\\x871n\\xbaD\\xbe\\xa1\\xdeM\\xa1\\xbe\\xe1u)\\x82\\xc2\\x1a\\xa1\\xed1.\\x92\\x1cGU\\xac\\x1di\\x9d\\xf7\\x9e\\xf2x\\x95\\t\\xb5\\xf6\\x98\\xa3E\\xf4\\x18z\\xce\"\\xe0\\xcc\\x08 \\xf6\\x13e\\xbc\\xfd\\xc6\\xaf)\\x07\\xb6\\xf1\\x8d\\xce\\xe6\\xd3$\\xb4\\xc0q\\xde\\xf2\\t7;\\xc6\\x96\\xd2\\xdc\\xa5E0@\\x93\\xbf\\xea\\x17G\\x12\\x93\\xac\\xebB\\xa2B\\x88\\xb8\\xc9\\\\\"m\\xb9\\x0e[\\xd2\\xac\\xa7\\xfe\\xcaaD\\xe1\\x07p\\xd4\\xa5^\\xe04\\xff\\x00h\\xa1\\xb9nnN\\x9f4\\x00X\\x81\\xcd$Q\\xc3I\\xb9E\\x17(\\x00\\xbb\\xcaZ\\x98I5\\xba\\xa7\\xd8*R\\xe6\\x8ek\\x18\"\\xc3\\x89\\x96\\x0c+\\xe2\\xeckA\\xedd|\\xaf\\xd8V\\xbd\\xb5\\x1f\\xfbM3x%\\x97\\x17\\xfb[\\x9cu\\xefY\\x86\\xdd\\xa4C[\":\\xc4A\\xdc\\x00\\xc8t\\xdd\\xbf\\xf9\\x96\\x97\\x8cys\\xf0\\xee:\\x92\\xd0A\\x02lF\\xb1\\xa8\\xe0\\xa1-\\xbb\\x95\\x8e\\xfd\\x89\\r\\xae\\x7f_K\\x81\\xcb\\xbe/\\x9fq>s\\xc9sk\\x7f\\x13J\\xdb\\xdb\\xa4\\x00z\\xc6r\\xfcg]\\xc8ms\\xfbE\"yL\\x89\\x9e\\xb9\\xb1\\xe3\\xad\\xa3D\\xa6\\xd6\\x1f\\xb4\\xd1\\xd0\\xfb6\\x896u\\xa65\\xdf\\x1c!c\\xe7\\xee\\x8c\\\\\\xbd\\x98\\\\}<\\xd8\\x9aCQ\\r#x\\xb1&\\xd1}\\xda\\x9d\\x10\\xaa3c\\x1a>\\xe3{o\\x94\\x9d4i\\xbaS\\x12\\xd01lt\\xdf,\\x9e6\\x06\\x01\\xe3\\xd8\\x11h?61\\xd6\\xfb\\x16\\x98\\xe1\\xbb\\x86\\xf5\\xbc\\xfb\\x87.\\xc2Nd\\xe3#\\x87>\\r\\xe1\\x1c\\xf4\\xe4\\x94{\\xc9\\xc5\\xb4}\\xdb_wT\\x99\\xe5\\xaf%\\xcae\\xbf\\xa5\\xb8\\xe6\\x1b\\xed\\x9a\\xf3\\x94n\\x942\\xce.d@1\\xc2\\xf9,.\\x8f\\xb3-\\x7f\\xc1\\xcdg\\xc6)\\x9f\\x8a\\x99\\x07Nf\\xfe\\x08\\xa1\\x80b\\xccG^\\x9c\\xef\\xd7\\x8d\\xad\\xb9\\n\\xf0qL\\xd6\\x03H\\xd6\\xd3\\x04\\xf6\"\\xeb\\x8b\\x0e\\x90[\\x93Q\\xc8\\x19\\x9b\\xf3\\x0b~\\xc5\\xfa\\x06\\x02\\x9cbk\\x81\\xbf)\\xf3\\xe5\\xeeCbQ\\x83Y\\xa4\\x9fl\\xdaF\\xf0E\\x80\\xb4\\x9e\\x1a%\\xf0\\xe2158\\x164\\xea#p\\x1d\\x9a\\x1f\\x146M\\x9d\\\\\\xff\\x00\\xd43h\\x11\\x13>\\x05\\x15\\xb7s[\\xf8\\t\\xd1\\xd6\\x9fTc4gw\\x0eH#tl\\xfe\\xa8\\xc0\\x1e\\xd9\\xe3\\xc9\\x04\\x88b\\xb1\\x87g\\xaa-i\\x00e\\x01\\x83N\\xb3\\x0c\\x00\\xe8\\xf2<\\x0c\\xf1X\\xfe\\xdc\\xa9\\x9a\\xb5C \\xc3\\x88\\x10 X\\xe5\\xb0\\xdc,\\xb5\\xbd\\xb7X\\x8c;\\xa4\\x86\\xd4\\xa4\\xd0\\x0eV\\xdb\\xad\\xd6\\xce\\x0c\\xc1k\\x84v\\x15\\x8b\\xe3_~w\\xf1*\\xb1\\xcb\\x07\\x847s\\xb4\\x08U(\\x8f\\x08<\\xc8\\x95D )\\x8b\\xa5M\\x87/yE`Fz\\x00M\\x14\\x99G\\xcb\\xe7~\\xe4\\x1b\\xbdi\\x81^w\"\\xd3j9b\\x1a (\\x01\\xa3\\xb9K\\xec\\xcaA\\xc0<j<\\xa0\\xb6,\\xa3\\xf0xr\\xf9\\x8d\\x07\\xbf\\x8fb\\xb4\\xec\\xcc\\x0b\\x85\\x16\\x964f\\x87\\xba\\xe4\\\\4\\x8bA\\xe3\\x98_\\x97jI<\\x0f\\x14Ht\\x96\\x94\\xd0c\\xfe\\xf6A\\xad\\xef\\xc7q\\'(\\xb8\\xb6\\x8bD\\xc7\\xb47\\xd4\\x18\\xf6]}\\xdb\\xdag\\xb7\\x89\\xd1Q\\xf1\\xed5\\xf0\\xd4Z\\xd6{\\x0e\\xeb\\x08\\x16\\xca\\xe1h\\xd6M\\x8f0d+\\xee\\xd6dPc\\xefb7~\\x1d\\xc3p\\xb01\\xf2R{\\x0c\\xb7C\\x9d\\xa2\\x01\\xc4Q\\xbd\\xa7\\x9bo\\x98\\xee\\xdd\\x7f\\x14\\xb6\\xd1h\\xfd&\\x85\\xc0\\xd7\\x91\\xdeE\\xb7O\\x9aOh\\x12\\x1f\\x877\\xf6\\xf4\\xfc\\xd1\\xe1i\\xb2\\xee\\xd5\\x05\\xb8\\x8a/\\x83\\x13\\x12/\\xf6\\xa2#]\\xfevG_t/Of\\x17\\x19\\xfcN\\xb6\\xc911h\\x88#w\\x1f4\\xdf\\x0e\\xec\\xd8\\xb3\\x1a\\xc4\\xd8\\x8b\\x00\\x04\\x93\\x1an\\xe6\\x9fb]\\xfb]?\\xc8\\xed\\xf6\\xd1\\xda|\\xf5I\\xb4\\xfe\\xd6y\\xb25\\xd2\\xc3M\\xff\\x00\\x1e\\xe45\\x9e\\xe1x\\xaf\\xc0\\x8d*\\xa4\\xe2\\x9d\\xd53q\\x9b+t\\x03]/\\xbb^\\x0b\\xb4*\\x0f\\xd2_\\xd7n\\xb6$\\x0b\\x90\\x00&\\xc4%0\\xad\\x1f\\xa6>>\\xe9;\\xb86~\\x8a56\\xfe\\xd8\\xee\\x19f\\xff\\x00\\x97t\\xdb\\xc1\\x0b\\xe4\\xcf\\xa1\\x1c\\xdf\\xb54fi\\xb9q \\x89\\xf6\\r\\x88\\x1f\\x19G.g\\xe93\\x98O\\xab1\\x0ef\\xfbXM\\xb4\\x0b\\xadd\\xe3\\t\\xb5\\x84\\x8f\\xe8\\xfa\\xd1/J\\xa08\\xa7\\x0f\\xbbN\\x06\\x9c\\xbc5\\xdc\\xb5?\\xf4\\x1f\\xc0ZU\\x01\\xadR\\\\\\x041\\x80\\x00\\xf0\\xdb\\xf0#q\\x92Q\\xb6;\\xa4\\xd7q\\xcb\\xfb\\xc7{$\\x91fG\\xb4t6\\x99\\xe6\\x94\\xd9\\xa2kWw6\\x8d\\xc7I\\xfa\\x84\\x96\\x00\\xcd\\n\\xce\\'WT2Na\\xa4H\\x1b\\xc7j\\xdb\\xf93\\xf8/\\xb0-A\\x9c\\xe4\\xdc\\x8b\\xc97\\x1c\\x90Kl\\xa6\\x91F\\x98\\x9f\\xb2\\x0f\\roq\\xc6\\xe8!#J?N\\xf4w\\xfd\\xa7\\x7f\\x8a\\xc5\\xeb\\xfb]\\xff\\x00\\x04\\x10M\\r\\xd8\\xcfa\\x17\\xa2\\xd3\\xf6{\\xcf\\xc1\\x04\\x13\\x88\\xc5)#\\x1d\\x0fr\\x08 \\x02\\xbfW\"\\xd1\\xd1\\x04\\x10\\x07]\\xa9H\\xd6\\xfa\\xf0A\\x04\\x01?\\xd1]\\x1f\\xda>*\\xe9\\xb1?t\\xff\\x00\\xfb5\\x7f\\xc5\\x04\\x14\\xe4Ql=\\xc3j\\xff\\x00\\xfd\\xb5?\\xef\\xaa\\xad\\xfbS\\xf7\\r\\xfc\\xec\\xff\\x00\\xf3( \\x91\\xec\\xcc\\xe68\\xda\\xbf\\xf0~v\\x7f\\x8a7H\\xfd\\xba]\\xa3\\xfb\\xda\\x82\\x08{>\\xc6.]\\xc5+\\xff\\x00\\x19O\\xb0\\xff\\x00k\\xd1\\x7f\\xf5\\xbf\\xcb\\xfe( \\xb7\\xec\\xcf\\xa1\\x0c\\x1f\\xf1\\xce\\xfe\\x7fr]\\xbf\\xc6\\xff\\x00\\xf1\\xff\\x00\\x8a\\x08,[w5\\xef\\xd8F\\x87\\xf1\\xef\\xfc\\x9f\\xe2\\xd4\\xe2\\x8f\\xf1U? \\xfe\\xd6\\xa0\\x82\\x17\\xc9\\x8f\\xe0_g~\\xf6\\xb7\\xe6g\\xc5#\\x87\\xfe\\x16\\xafc\\xd7\\x10M\\xcb\\xf6`\\xf2\\x97\\xb0\\xcf\\xc8\\xdfr\\x08 \\xb4\\x0f\\xff\\xd9'}}"
      ]
     },
     "execution_count": 79,
     "metadata": {},
     "output_type": "execute_result"
    }
   ],
   "source": [
    "file_upload.value "
   ]
  },
  {
   "cell_type": "code",
   "execution_count": 108,
   "id": "aee22064-926e-4b2e-a4f0-d4ac288f2e1a",
   "metadata": {},
   "outputs": [
    {
     "name": "stdout",
     "output_type": "stream",
     "text": [
      "metadata\n",
      "content\n"
     ]
    },
    {
     "data": {
      "application/vnd.jupyter.widget-view+json": {
       "model_id": "6379924ef1e14b95ab070a40227d82fd",
       "version_major": 2,
       "version_minor": 0
      },
      "text/plain": [
       "Image(value=b'\\xff\\xd8\\xff\\xe0\\x00\\x10JFIF\\x00\\x01\\x01\\x00\\x00\\x01\\x00\\x01\\x00\\x00\\xff\\xdb\\x00\\x84\\x00\\n\\x07\\x…"
      ]
     },
     "metadata": {},
     "output_type": "display_data"
    }
   ],
   "source": [
    "chay_key = None\n",
    "for key,value in file_upload.value.items():\n",
    "    chay_key = key\n",
    "for key in file_upload.value[chay_key]:\n",
    "    print(key)\n",
    "widgets.Image(value=file_upload.value[chay_key]['content'],\n",
    "              format='jpeg',\n",
    "              width=300,\n",
    "              height=300)"
   ]
  },
  {
   "cell_type": "code",
   "execution_count": 84,
   "id": "441d2089-bc51-4023-85f6-14f37fac8f2e",
   "metadata": {},
   "outputs": [
    {
     "ename": "SyntaxError",
     "evalue": "invalid syntax (<ipython-input-85-cc680fb537f8>, line 1)",
     "output_type": "error",
     "traceback": [
      "\u001b[0;36m  File \u001b[0;32m\"<ipython-input-85-cc680fb537f8>\"\u001b[0;36m, line \u001b[0;32m1\u001b[0m\n\u001b[0;31m    widgets.Image(value = file_upload.value.'content',\u001b[0m\n\u001b[0m                                            ^\u001b[0m\n\u001b[0;31mSyntaxError\u001b[0m\u001b[0;31m:\u001b[0m invalid syntax\n"
     ]
    }
   ],
   "source": [
    "widgets.Image(value = file_upload.value.['content'],\n",
    "             format='jpeg',\n",
    "             width=300,\n",
    "             height=400,)"
   ]
  },
  {
   "cell_type": "code",
   "execution_count": 87,
   "id": "dbef824c-a997-4abb-b067-5a99f5033bce",
   "metadata": {},
   "outputs": [
    {
     "data": {
      "application/vnd.jupyter.widget-view+json": {
       "model_id": "70a169ef39644f5eabc9a55ced037e2f",
       "version_major": 2,
       "version_minor": 0
      },
      "text/plain": [
       "Button(description='Click Me!', style=ButtonStyle())"
      ]
     },
     "metadata": {},
     "output_type": "display_data"
    },
    {
     "data": {
      "application/vnd.jupyter.widget-view+json": {
       "model_id": "07f59258de7546319756a9a52952c957",
       "version_major": 2,
       "version_minor": 0
      },
      "text/plain": [
       "Output()"
      ]
     },
     "metadata": {},
     "output_type": "display_data"
    }
   ],
   "source": [
    "button = widgets.Button(description=\"Click Me!\")\n",
    "output = widgets.Output()\n",
    "\n",
    "display(button,output)\n",
    "def on_button_clicked(button):\n",
    "    with output:\n",
    "        print(\"hello button!!\")\n",
    "button.on_click(on_button_clicked)"
   ]
  },
  {
   "cell_type": "code",
   "execution_count": 93,
   "id": "f0ddb1bc-8b1b-46bd-bc45-0906333ef2db",
   "metadata": {},
   "outputs": [
    {
     "data": {
      "application/vnd.jupyter.widget-view+json": {
       "model_id": "187733d4a23f4dc99bc9b0f5b98e828d",
       "version_major": 2,
       "version_minor": 0
      },
      "text/plain": [
       "IntSlider(value=50)"
      ]
     },
     "metadata": {},
     "output_type": "display_data"
    },
    {
     "data": {
      "application/vnd.jupyter.widget-view+json": {
       "model_id": "2eff641639f3490d834696a579689b1e",
       "version_major": 2,
       "version_minor": 0
      },
      "text/plain": [
       "Output()"
      ]
     },
     "metadata": {},
     "output_type": "display_data"
    }
   ],
   "source": [
    "input_number = widgets.IntSlider(value=50,min=0,max=100)\n",
    "output = widgets.Output()\n",
    "display(input_number,output)\n",
    "def input_number_action(input_number):\n",
    "    with output:\n",
    "        print(input_number['new']**2)\n",
    "input_number.observe(input_number_action, names='value')"
   ]
  },
  {
   "cell_type": "code",
   "execution_count": 94,
   "id": "466e4e16-cb53-4285-b52c-348dd3ee6086",
   "metadata": {},
   "outputs": [],
   "source": [
    "from ipywidgets import interact\n"
   ]
  },
  {
   "cell_type": "code",
   "execution_count": 95,
   "id": "5f4cd94b-2ebd-407f-980c-b65cac254b91",
   "metadata": {},
   "outputs": [
    {
     "data": {
      "application/vnd.jupyter.widget-view+json": {
       "model_id": "da8728a7d4124239b16b5bee6c97810b",
       "version_major": 2,
       "version_minor": 0
      },
      "text/plain": [
       "interactive(children=(Checkbox(value=True, description='x'), FloatSlider(value=1.0, description='y', max=3.0, …"
      ]
     },
     "metadata": {},
     "output_type": "display_data"
    }
   ],
   "source": [
    "@interact(x=True,y=1.0)\n",
    "def g(x,y):\n",
    "    return(x,y)"
   ]
  },
  {
   "cell_type": "code",
   "execution_count": 96,
   "id": "3b841619-d867-4cee-a002-009ac9f3d629",
   "metadata": {},
   "outputs": [
    {
     "data": {
      "application/vnd.jupyter.widget-view+json": {
       "model_id": "94f8659e2107402eaebc0856f77fde54",
       "version_major": 2,
       "version_minor": 0
      },
      "text/plain": [
       "interactive(children=(Checkbox(value=True, description='x'), FloatSlider(value=1.0, description='y', max=3.0, …"
      ]
     },
     "metadata": {},
     "output_type": "display_data"
    }
   ],
   "source": [
    "from ipywidgets import fixed\n",
    "@interact(x=True,y=1.0,z=fixed(10))\n",
    "def f(x,y,z):\n",
    "    return x,y,z"
   ]
  },
  {
   "cell_type": "code",
   "execution_count": null,
   "id": "8bebdfab-8a83-4a07-b25f-3de33b6a3ab8",
   "metadata": {},
   "outputs": [],
   "source": []
  }
 ],
 "metadata": {
  "kernelspec": {
   "display_name": "Python 3",
   "language": "python",
   "name": "python3"
  },
  "language_info": {
   "codemirror_mode": {
    "name": "ipython",
    "version": 3
   },
   "file_extension": ".py",
   "mimetype": "text/x-python",
   "name": "python",
   "nbconvert_exporter": "python",
   "pygments_lexer": "ipython3",
   "version": "3.9.1"
  }
 },
 "nbformat": 4,
 "nbformat_minor": 5
}
